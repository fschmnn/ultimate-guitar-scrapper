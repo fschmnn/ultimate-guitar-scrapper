{
 "cells": [
  {
   "cell_type": "markdown",
   "metadata": {},
   "source": [
    "Ultimate guitar converter\n",
    "==============\n",
    "\n",
    "convert any song on https://www.ultimate-guitar.com/ to a LaTeX file."
   ]
  },
  {
   "cell_type": "code",
   "execution_count": 1,
   "metadata": {},
   "outputs": [
    {
     "data": {
      "text/html": [
       "<script>\n",
       "code_show=true; \n",
       "function code_toggle() {\n",
       " if (code_show){\n",
       " $('div.input').hide();\n",
       " } else {\n",
       " $('div.input').show();\n",
       " }\n",
       " code_show = !code_show\n",
       "} \n",
       "$( document ).ready(code_toggle);\n",
       "</script>\n",
       "<form action=\"javascript:code_toggle()\"><input type=\"submit\" value=\"Click here to toggle on/off the raw code.\"></form>"
      ],
      "text/plain": [
       "<IPython.core.display.HTML object>"
      ]
     },
     "execution_count": 1,
     "metadata": {},
     "output_type": "execute_result"
    }
   ],
   "source": [
    "from IPython.display import HTML\n",
    "\n",
    "HTML('''<script>\n",
    "code_show=true; \n",
    "function code_toggle() {\n",
    " if (code_show){\n",
    " $('div.input').hide();\n",
    " } else {\n",
    " $('div.input').show();\n",
    " }\n",
    " code_show = !code_show\n",
    "} \n",
    "$( document ).ready(code_toggle);\n",
    "</script>\n",
    "<form action=\"javascript:code_toggle()\"><input type=\"submit\" value=\"Click here to toggle on/off the raw code.\"></form>''')"
   ]
  },
  {
   "cell_type": "code",
   "execution_count": 2,
   "metadata": {},
   "outputs": [
    {
     "data": {
      "text/html": [
       "<script>\n",
       "    // AUTORUN ALL CELLS ON NOTEBOOK-LOAD!\n",
       "    require(\n",
       "        ['base/js/namespace', 'jquery'], \n",
       "        function(jupyter, $) {\n",
       "            $(jupyter.events).on(\"kernel_ready.Kernel\", function () {\n",
       "                console.log(\"Auto-running all cells-below...\");\n",
       "                jupyter.actions.call('jupyter-notebook:run-all-cells-below');\n",
       "                jupyter.actions.call('jupyter-notebook:save-notebook');\n",
       "            });\n",
       "        }\n",
       "    );\n",
       "</script>"
      ],
      "text/plain": [
       "<IPython.core.display.HTML object>"
      ]
     },
     "metadata": {},
     "output_type": "display_data"
    }
   ],
   "source": [
    "%%html\n",
    "<script>\n",
    "    // AUTORUN ALL CELLS ON NOTEBOOK-LOAD!\n",
    "    require(\n",
    "        ['base/js/namespace', 'jquery'], \n",
    "        function(jupyter, $) {\n",
    "            $(jupyter.events).on(\"kernel_ready.Kernel\", function () {\n",
    "                console.log(\"Auto-running all cells-below...\");\n",
    "                jupyter.actions.call('jupyter-notebook:run-all-cells-below');\n",
    "                jupyter.actions.call('jupyter-notebook:save-notebook');\n",
    "            });\n",
    "        }\n",
    "    );\n",
    "</script>"
   ]
  },
  {
   "cell_type": "code",
   "execution_count": 3,
   "metadata": {},
   "outputs": [
    {
     "name": "stderr",
     "output_type": "stream",
     "text": [
      "Widget Javascript not detected.  It may not be installed or enabled properly.\n"
     ]
    },
    {
     "data": {
      "application/vnd.jupyter.widget-view+json": {
       "model_id": "8ca590da3cc142a8bb3c90a66a495021"
      }
     },
     "metadata": {},
     "output_type": "display_data"
    }
   ],
   "source": [
    "from scrape_link import scrape\n",
    "from convert_text import parse\n",
    "from create_file import save\n",
    "\n",
    "from ipywidgets import widgets,HBox, VBox, Layout\n",
    "from IPython.display import display\n",
    "\n",
    "button1 = widgets.Button(description=\"get song\",layout=Layout(height='30px', width='200px'))\n",
    "button2 = widgets.Button(description=\"convert\",layout=Layout(height='30px', width='300px'))\n",
    "button3 = widgets.Button(description=\"save\",layout=Layout(height='30px', width='300px'))\n",
    "\n",
    "txtfield = widgets.Textarea(placeholder='some songtext',layout=Layout(height='600px', width='600px'))\n",
    "urlfield = widgets.Text(placeholder='type in URL',layout=Layout(height='30px', width='400px'))\n",
    "titlefield = widgets.Text(placeholder='title',layout=Layout(height='30px', width='300px'))\n",
    "interpretfield = widgets.Text(placeholder='interpret',layout=Layout(height='30px', width='300px'))\n",
    "\n",
    "def on_button1_clicked(b):\n",
    "    if urlfield.value != '':\n",
    "        txt,title,interpret = scrape(urlfield.value)\n",
    "        txtfield.value = txt\n",
    "        titlefield.value = title\n",
    "        interpretfield.value = interpret\n",
    "    else:\n",
    "        txtfield.placeholder = 'invalid url'\n",
    "    \n",
    "def on_button2_clicked(b):\n",
    "    txtfield.value = parse(txtfield.value,titlefield.value,interpretfield.value)\n",
    "    \n",
    "def on_button3_clicked(b):\n",
    "    save(txtfield.value,titlefield.value)    \n",
    "    \n",
    "button1.on_click(on_button1_clicked)\n",
    "button2.on_click(on_button2_clicked)\n",
    "button3.on_click(on_button3_clicked)\n",
    "\n",
    "# Layout of the GUI\n",
    "top_box = HBox([urlfield,button1])\n",
    "mid_box = HBox([titlefield,interpretfield])\n",
    "bottom_box = HBox([button2,button3])\n",
    "\n",
    "VBox([top_box,mid_box,txtfield,bottom_box])"
   ]
  }
 ],
 "metadata": {
  "kernelspec": {
   "display_name": "Python 3",
   "language": "python",
   "name": "python3"
  },
  "language_info": {
   "codemirror_mode": {
    "name": "ipython",
    "version": 3
   },
   "file_extension": ".py",
   "mimetype": "text/x-python",
   "name": "python",
   "nbconvert_exporter": "python",
   "pygments_lexer": "ipython3",
   "version": "3.6.1"
  }
 },
 "nbformat": 4,
 "nbformat_minor": 2
}
