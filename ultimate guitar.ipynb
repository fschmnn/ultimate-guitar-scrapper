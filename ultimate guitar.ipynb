{
 "cells": [
  {
   "cell_type": "markdown",
   "metadata": {},
   "source": [
    "Ultimate guitar converter\n",
    "==============\n",
    "\n",
    "convert any song on https://www.ultimate-guitar.com/ to a LaTeX file."
   ]
  },
  {
   "cell_type": "code",
   "execution_count": 6,
   "metadata": {},
   "outputs": [
    {
     "data": {
      "text/html": [
       "<script>\n",
       "code_show=true; \n",
       "function code_toggle() {\n",
       " if (code_show){\n",
       " $('div.input').hide();\n",
       " } else {\n",
       " $('div.input').show();\n",
       " }\n",
       " code_show = !code_show\n",
       "} \n",
       "$( document ).ready(code_toggle);\n",
       "</script>\n",
       "<form action=\"javascript:code_toggle()\"><input type=\"submit\" value=\"Click here to toggle on/off the raw code.\"></form>"
      ],
      "text/plain": [
       "<IPython.core.display.HTML object>"
      ]
     },
     "execution_count": 6,
     "metadata": {},
     "output_type": "execute_result"
    }
   ],
   "source": [
    "from IPython.display import HTML\n",
    "\n",
    "HTML('''<script>\n",
    "code_show=true; \n",
    "function code_toggle() {\n",
    " if (code_show){\n",
    " $('div.input').hide();\n",
    " } else {\n",
    " $('div.input').show();\n",
    " }\n",
    " code_show = !code_show\n",
    "} \n",
    "$( document ).ready(code_toggle);\n",
    "</script>\n",
    "<form action=\"javascript:code_toggle()\"><input type=\"submit\" value=\"Click here to toggle on/off the raw code.\"></form>''')"
   ]
  },
  {
   "cell_type": "code",
   "execution_count": 36,
   "metadata": {},
   "outputs": [],
   "source": [
    "#==============================================================================\n",
    "# scrape the content from https://www.ultimate-guitar.com/\n",
    "#==============================================================================\n",
    "\n",
    "# modules used to get and parse the content\n",
    "    import requests\n",
    "from bs4 import BeautifulSoup\n",
    "\n",
    "def scrape(link):\n",
    "    page = requests.get(link)\n",
    "    soup = BeautifulSoup(page.content, 'html.parser')\n",
    "    # the main part of the song can be found under\n",
    "    txt = soup.find_all('textarea')[1].get_text()\n",
    "\n",
    "    info = soup.find('title').get_text().title()\n",
    "    title = info[:info.find(\"By\")-1]\n",
    "    interpret = info[info.find(\"By\")+3:info.find(\"@\")-1]\n",
    "    \n",
    "    return (txt,title,interpret)\n"
   ]
  },
  {
   "cell_type": "code",
   "execution_count": 30,
   "metadata": {
    "collapsed": true
   },
   "outputs": [],
   "source": [
    "#==============================================================================\n",
    "# convert the raw input to a LaTeX format\n",
    "#==============================================================================\n",
    "\n",
    "numbers = ['1','2','3','4','5','6','7','8','9',' ']\n",
    "\n",
    "# function to split line into single chords\n",
    "def split_row(row):\n",
    "    line = []\n",
    "    while row:\n",
    "        try: item, row = row.lstrip().split(' ', 1)\n",
    "        except: item, row = row.lstrip(), ''\n",
    "        line.append(item)\n",
    "    return line\n",
    "\n",
    "# *************************************\n",
    "# format for LaTeX\n",
    "# *************************************\n",
    "def convert_song(txt):\n",
    "    #split input into list\n",
    "    INPUT = txt.split('\\n')\n",
    "    \n",
    "    \n",
    "    length = len(INPUT)\n",
    "    INPUT.append('')\n",
    "    OUTPUT = []\n",
    "    endenv = ''\n",
    "    i = 0\n",
    "\n",
    "    OUTPUT.append('\\\\begin{song}[title={' + titlefield.value + '},interpret={' + interpretfield.value +'}]')\n",
    "    # main loop\n",
    "    while i < length:\n",
    "        row = INPUT[i]\n",
    "        \n",
    "        # use empty space p to determine if a row is a \"chord-row\"\n",
    "        if row != '':\n",
    "            p = (row.count(' ') / len(row))\n",
    "        else:\n",
    "            p = 0\n",
    "            \n",
    "        if row == '':\n",
    "            if endenv != '':\n",
    "                OUTPUT.append(endenv)\n",
    "                OUTPUT.append('')\n",
    "                endenv = ''\n",
    "            i += 1\n",
    "        # determine environment\n",
    "        elif row[0] == '[':\n",
    "            env = row[row.find(\"[\")+1:row.find(\"]\")].lower()\n",
    "            for string in numbers: env = env.replace(string,'')\n",
    "            OUTPUT.append('\\\\begin{' + env + '}')\n",
    "            endenv = '\\\\end{' + env + '}'\n",
    "            i += 1\n",
    "            if INPUT[i] == '': i += 1\n",
    "     \n",
    "        # place chords over text\n",
    "        elif p >.50:\n",
    "            # determine chord and position\n",
    "            chords = split_row(row)\n",
    "            index = []\n",
    "            j = 0\n",
    "            for chord in chords:\n",
    "                idx = row.find(chord,j)\n",
    "                index.append(idx)\n",
    "                j = idx\n",
    "\n",
    "            # create new line for text + chords\n",
    "            textrow = INPUT[i+1]\n",
    "\n",
    "            # check if textrow is long enough\n",
    "            if len(textrow)<index[-1]:\n",
    "                textrow += ' '* (index[-1]-len(textrow)+1)\n",
    "\n",
    "            for chord, idx in zip(reversed(chords), reversed(index)):\n",
    "                textrow = textrow[:idx] + '\\chord{' + chord + '}' + textrow[idx:]\n",
    "            textrow += '\\\\\\\\'\n",
    "\n",
    "            # append result\n",
    "            OUTPUT.append(textrow.replace('”','\"').replace('“','\"').replace('#','\\sharp').replace(\"’\",\"'\"))\n",
    "            i += 2 \n",
    "        else:\n",
    "            OUTPUT.append(row + '\\\\\\\\' )\n",
    "            i += 1\n",
    "        \n",
    "    OUTPUT.append('\\\\end{song}')\n",
    "    \n",
    "    txt = ''\n",
    "    for line in OUTPUT:\n",
    "        txt += line + '\\n'\n",
    "        \n",
    "    return txt\n"
   ]
  },
  {
   "cell_type": "code",
   "execution_count": 40,
   "metadata": {
    "collapsed": true
   },
   "outputs": [],
   "source": [
    "import io\n",
    "\n",
    "def save(txt):\n",
    "    #*************************************\n",
    "    # write to file with utf8 encoding\n",
    "    #*************************************\n",
    "        \n",
    "    filename = titlefield.value.lower() + '.tex'\n",
    "    with io.open(filename,'w',encoding='utf8') as f:\n",
    "        f.write(txt)\n",
    "    f.close()"
   ]
  },
  {
   "cell_type": "code",
   "execution_count": 38,
   "metadata": {},
   "outputs": [
    {
     "data": {
      "application/vnd.jupyter.widget-view+json": {
       "model_id": "8af7c1ebf8b5491a9d3345e2985d685d"
      }
     },
     "metadata": {},
     "output_type": "display_data"
    }
   ],
   "source": [
    "from ipywidgets import widgets,HBox, VBox, Layout\n",
    "from IPython.display import display\n",
    "\n",
    "button1 = widgets.Button(description=\"get song\",layout=Layout(height='30px', width='200px'))\n",
    "button2 = widgets.Button(description=\"convert\",layout=Layout(height='30px', width='300px'))\n",
    "button3 = widgets.Button(description=\"save\",layout=Layout(height='30px', width='300px'))\n",
    "\n",
    "txtfield = widgets.Textarea(placeholder='some songtext',layout=Layout(height='600px', width='600px'))\n",
    "urlfield = widgets.Text(placeholder='type in URL',layout=Layout(height='30px', width='400px'))\n",
    "titlefield = widgets.Text(placeholder='title',layout=Layout(height='30px', width='300px'))\n",
    "interpretfield = widgets.Text(placeholder='interpret',layout=Layout(height='30px', width='300px'))\n",
    "\n",
    "def on_button1_clicked(b):\n",
    "    if urlfield.value != '':\n",
    "        txt,title,interpret = scrape(urlfield.value)\n",
    "        txtfield.value = txt\n",
    "        titlefield.value = title\n",
    "        interpretfield.value = interpret\n",
    "    else:\n",
    "        txtfield.placeholder = 'invalid url'\n",
    "    \n",
    "def on_button2_clicked(b):\n",
    "    txtfield.value = convert_song(txtfield.value)\n",
    "    \n",
    "def on_button3_clicked(b):\n",
    "    save(txtfield.value)    \n",
    "    \n",
    "button1.on_click(on_button1_clicked)\n",
    "button2.on_click(on_button2_clicked)\n",
    "button3.on_click(on_button3_clicked)\n",
    "\n",
    "# Layout of the GUI\n",
    "top_box = HBox([urlfield,button1])\n",
    "mid_box = HBox([titlefield,interpretfield])\n",
    "bottom_box = HBox([button2,button3])\n",
    "\n",
    "VBox([top_box,mid_box,txtfield,bottom_box])"
   ]
  },
  {
   "cell_type": "raw",
   "metadata": {},
   "source": []
  }
 ],
 "metadata": {
  "kernelspec": {
   "display_name": "Python 3",
   "language": "python",
   "name": "python3"
  },
  "language_info": {
   "codemirror_mode": {
    "name": "ipython",
    "version": 3
   },
   "file_extension": ".py",
   "mimetype": "text/x-python",
   "name": "python",
   "nbconvert_exporter": "python",
   "pygments_lexer": "ipython3",
   "version": "3.6.1"
  }
 },
 "nbformat": 4,
 "nbformat_minor": 2
}
